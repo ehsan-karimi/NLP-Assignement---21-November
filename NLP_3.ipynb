{
  "nbformat": 4,
  "nbformat_minor": 0,
  "metadata": {
    "colab": {
      "provenance": [],
      "authorship_tag": "ABX9TyOq8MX9S5DXeGJeKtRaHzwR"
    },
    "kernelspec": {
      "name": "python3",
      "display_name": "Python 3"
    },
    "language_info": {
      "name": "python"
    }
  },
  "cells": [
    {
      "cell_type": "code",
      "execution_count": 1,
      "metadata": {
        "colab": {
          "base_uri": "https://localhost:8080/"
        },
        "id": "osZ7k8FCrfMK",
        "outputId": "09dc8560-873b-4adf-a4cc-12ba885f45ef"
      },
      "outputs": [
        {
          "output_type": "stream",
          "name": "stdout",
          "text": [
            "Path to dataset files: /kaggle/input/email-spam-classification-dataset-csv\n"
          ]
        }
      ],
      "source": [
        "import kagglehub\n",
        "\n",
        "# Download latest version\n",
        "path = kagglehub.dataset_download(\"balaka18/email-spam-classification-dataset-csv\")\n",
        "\n",
        "print(\"Path to dataset files:\", path)"
      ]
    },
    {
      "cell_type": "code",
      "source": [
        "import pandas as pd\n",
        "from sklearn.model_selection import train_test_split\n",
        "from sklearn.naive_bayes import MultinomialNB\n",
        "from sklearn.metrics import confusion_matrix, classification_report, f1_score\n",
        "\n",
        "# Load dataset\n",
        "df = pd.read_csv(\"/kaggle/input/email-spam-classification-dataset-csv/emails.csv\")\n",
        "\n",
        "# Drop 'Email No.' column if present\n",
        "if 'Email No.' in df.columns:\n",
        "    df = df.drop(columns=['Email No.'])\n",
        "\n",
        "# Rename target column if necessary\n",
        "X = df.drop(columns=['Prediction'])  # Features: word counts\n",
        "y = df['Prediction']                # Labels: 0 = ham, 1 = spam\n",
        "\n",
        "# Split into training and test sets\n",
        "X_train, X_test, y_train, y_test = train_test_split(X, y, test_size=0.2, random_state=42)\n",
        "\n",
        "# Train Naive Bayes model\n",
        "nb_model = MultinomialNB()\n",
        "nb_model.fit(X_train, y_train)\n",
        "\n",
        "# Predict\n",
        "y_pred = nb_model.predict(X_test)\n",
        "\n",
        "# Evaluation\n",
        "conf_matrix = confusion_matrix(y_test, y_pred)\n",
        "print(\"=== Confusion Matrix ===\")\n",
        "print(conf_matrix)\n",
        "\n",
        "print(\"\\n=== Classification Report ===\")\n",
        "print(classification_report(y_test, y_pred))\n",
        "\n",
        "f1 = f1_score(y_test, y_pred)\n",
        "print(\"F1 Score: {:.4f}\".format(f1))\n",
        "\n",
        "print(\"\"\"\n",
        " Analysis:\n",
        "- The Naive Bayes classifier works well with discrete features like word counts.\n",
        "- This model assumes conditional independence between word features.\n",
        "- Performance is typically strong for spam detection problems, and the model is fast to train.\n",
        "- Confusion matrix shows how well spam/ham are separated; F1 score reflects the balance between precision and recall.\n",
        "\"\"\")\n"
      ],
      "metadata": {
        "colab": {
          "base_uri": "https://localhost:8080/"
        },
        "id": "s1eP25XksthP",
        "outputId": "5f46cf7b-842f-4cd6-c634-e9975cee46ce"
      },
      "execution_count": 2,
      "outputs": [
        {
          "output_type": "stream",
          "name": "stdout",
          "text": [
            "=== Confusion Matrix ===\n",
            "[[704  35]\n",
            " [ 12 284]]\n",
            "\n",
            "=== Classification Report ===\n",
            "              precision    recall  f1-score   support\n",
            "\n",
            "           0       0.98      0.95      0.97       739\n",
            "           1       0.89      0.96      0.92       296\n",
            "\n",
            "    accuracy                           0.95      1035\n",
            "   macro avg       0.94      0.96      0.95      1035\n",
            "weighted avg       0.96      0.95      0.96      1035\n",
            "\n",
            "F1 Score: 0.9236\n",
            "\n",
            "🧠 Analysis:\n",
            "- The Naive Bayes classifier works well with discrete features like word counts.\n",
            "- This model assumes conditional independence between word features.\n",
            "- Performance is typically strong for spam detection problems, and the model is fast to train.\n",
            "- Confusion matrix shows how well spam/ham are separated; F1 score reflects the balance between precision and recall.\n",
            "\n"
          ]
        }
      ]
    }
  ]
}